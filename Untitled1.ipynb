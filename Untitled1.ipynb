{
 "cells": [
  {
   "cell_type": "code",
   "execution_count": 347,
   "metadata": {},
   "outputs": [],
   "source": [
    "import pandas as pd\n",
    "import requests\n",
    "import socket\n",
    "import time\n",
    "import urllib.request\n",
    "from bs4 import BeautifulSoup\n",
    "from bs4.element import Comment\n",
    "import json\n",
    "from multiprocessing import Pool\n",
    "import multiprocessing\n",
    "import shutil\n",
    "import os\n",
    "import glob\n",
    "from datetime import datetime\n",
    "import hashlib"
   ]
  },
  {
   "cell_type": "code",
   "execution_count": 348,
   "metadata": {},
   "outputs": [],
   "source": [
    "df = pd.read_excel(\"20200121_ft_segmento_clickstream_easysampling_500k.xlsx\")"
   ]
  },
  {
   "cell_type": "code",
   "execution_count": 349,
   "metadata": {},
   "outputs": [
    {
     "data": {
      "text/html": [
       "<div>\n",
       "<style scoped>\n",
       "    .dataframe tbody tr th:only-of-type {\n",
       "        vertical-align: middle;\n",
       "    }\n",
       "\n",
       "    .dataframe tbody tr th {\n",
       "        vertical-align: top;\n",
       "    }\n",
       "\n",
       "    .dataframe thead th {\n",
       "        text-align: right;\n",
       "    }\n",
       "</style>\n",
       "<table border=\"1\" class=\"dataframe\">\n",
       "  <thead>\n",
       "    <tr style=\"text-align: right;\">\n",
       "      <th></th>\n",
       "      <th>url</th>\n",
       "    </tr>\n",
       "  </thead>\n",
       "  <tbody>\n",
       "    <tr>\n",
       "      <td>0</td>\n",
       "      <td>http://02.ogrninfo.ru/%D0%BE%D0%B1%D1%89%D0%B5...</td>\n",
       "    </tr>\n",
       "    <tr>\n",
       "      <td>1</td>\n",
       "      <td>http://03online.com/news/bol_pod_chelyustyu_sp...</td>\n",
       "    </tr>\n",
       "    <tr>\n",
       "      <td>2</td>\n",
       "      <td>http://03online.com/news/kak_lechit_sindrom_ra...</td>\n",
       "    </tr>\n",
       "    <tr>\n",
       "      <td>3</td>\n",
       "      <td>http://03online.com/news/opuhol_na_golenostope...</td>\n",
       "    </tr>\n",
       "    <tr>\n",
       "      <td>4</td>\n",
       "      <td>http://03online.com/news/plastika_pks_konsulta...</td>\n",
       "    </tr>\n",
       "    <tr>\n",
       "      <td>...</td>\n",
       "      <td>...</td>\n",
       "    </tr>\n",
       "    <tr>\n",
       "      <td>499995</td>\n",
       "      <td>https://node4.online.sberbank.ru/PhizIC/privat...</td>\n",
       "    </tr>\n",
       "    <tr>\n",
       "      <td>499996</td>\n",
       "      <td>https://node4.online.sberbank.ru/PhizIC/privat...</td>\n",
       "    </tr>\n",
       "    <tr>\n",
       "      <td>499997</td>\n",
       "      <td>https://node4.online.sberbank.ru/PhizIC/privat...</td>\n",
       "    </tr>\n",
       "    <tr>\n",
       "      <td>499998</td>\n",
       "      <td>https://node4.online.sberbank.ru/PhizIC/privat...</td>\n",
       "    </tr>\n",
       "    <tr>\n",
       "      <td>499999</td>\n",
       "      <td>https://node4.online.sberbank.ru/PhizIC/privat...</td>\n",
       "    </tr>\n",
       "  </tbody>\n",
       "</table>\n",
       "<p>500000 rows × 1 columns</p>\n",
       "</div>"
      ],
      "text/plain": [
       "                                                      url\n",
       "0       http://02.ogrninfo.ru/%D0%BE%D0%B1%D1%89%D0%B5...\n",
       "1       http://03online.com/news/bol_pod_chelyustyu_sp...\n",
       "2       http://03online.com/news/kak_lechit_sindrom_ra...\n",
       "3       http://03online.com/news/opuhol_na_golenostope...\n",
       "4       http://03online.com/news/plastika_pks_konsulta...\n",
       "...                                                   ...\n",
       "499995  https://node4.online.sberbank.ru/PhizIC/privat...\n",
       "499996  https://node4.online.sberbank.ru/PhizIC/privat...\n",
       "499997  https://node4.online.sberbank.ru/PhizIC/privat...\n",
       "499998  https://node4.online.sberbank.ru/PhizIC/privat...\n",
       "499999  https://node4.online.sberbank.ru/PhizIC/privat...\n",
       "\n",
       "[500000 rows x 1 columns]"
      ]
     },
     "execution_count": 349,
     "metadata": {},
     "output_type": "execute_result"
    }
   ],
   "source": [
    "df"
   ]
  },
  {
   "cell_type": "code",
   "execution_count": 351,
   "metadata": {},
   "outputs": [
    {
     "data": {
      "text/plain": [
       "500000"
      ]
     },
     "execution_count": 351,
     "metadata": {},
     "output_type": "execute_result"
    }
   ],
   "source": [
    "len(df[\"url\"].unique().tolist())"
   ]
  },
  {
   "cell_type": "code",
   "execution_count": 352,
   "metadata": {},
   "outputs": [],
   "source": [
    "# Для отбора только текста файла\n",
    "def tag_visible(element):\n",
    "    if element.parent.name in ['style', 'script', 'head', 'title', 'meta', '[document]']:\n",
    "        return False\n",
    "    if isinstance(element, Comment):\n",
    "        return False\n",
    "    return True"
   ]
  },
  {
   "cell_type": "code",
   "execution_count": 353,
   "metadata": {},
   "outputs": [],
   "source": [
    "# Отбор текста\n",
    "def text_from_html(soup):\n",
    "    texts = soup.findAll(text=True)\n",
    "    visible_texts = filter(tag_visible, texts)\n",
    "    return u\" \".join(t.strip() for t in visible_texts)"
   ]
  },
  {
   "cell_type": "code",
   "execution_count": 354,
   "metadata": {},
   "outputs": [],
   "source": [
    "# Отбор хедера\n",
    "def title_from_html(soup):\n",
    "    return u\" \".join(t.getText().strip() for t in soup('title'))"
   ]
  },
  {
   "cell_type": "code",
   "execution_count": 415,
   "metadata": {},
   "outputs": [],
   "source": [
    "socket.setdefaulttimeout(1)"
   ]
  },
  {
   "cell_type": "code",
   "execution_count": 371,
   "metadata": {},
   "outputs": [],
   "source": [
    "#shutil.rmtree('sites4/')\n",
    "os.mkdir('sites4') "
   ]
  },
  {
   "cell_type": "code",
   "execution_count": 413,
   "metadata": {},
   "outputs": [],
   "source": [
    "already_parsed_list = []\n",
    "\n",
    "for file_ in os.listdir(\"sites4/\"):\n",
    "    with open(\"sites4/\"+file_, \"r\") as f_:\n",
    "        already_parsed_list.append(json.load(f_)['url'])"
   ]
  },
  {
   "cell_type": "code",
   "execution_count": 414,
   "metadata": {},
   "outputs": [
    {
     "data": {
      "text/plain": [
       "500000"
      ]
     },
     "execution_count": 414,
     "metadata": {},
     "output_type": "execute_result"
    }
   ],
   "source": [
    "len(list(set(already_parsed_list)))"
   ]
  },
  {
   "cell_type": "code",
   "execution_count": 375,
   "metadata": {},
   "outputs": [],
   "source": [
    "def parse_all(url):\n",
    "    \n",
    "    if url not in already_parsed_list:\n",
    "        \n",
    "        res = dict()\n",
    "        \n",
    "        try:        \n",
    "            req = urllib.request.Request(url, data=None, headers={'User-Agent': 'Mozilla/5.0 (Macintosh; Intel Mac OS X 10_9_3) AppleWebKit/537.36 (KHTML, like Gecko) Chrome/35.0.1916.47 Safari/537.36'})\n",
    "            uf = urllib.request.urlopen(req)\n",
    "            \n",
    "            html = uf.read()\n",
    "            soup = BeautifulSoup(html)\n",
    "            res['title'] = title_from_html(soup)\n",
    "            res['text'] = text_from_html(soup)\n",
    "            res['url'] = url\n",
    "                    \n",
    "            with open(\"sites4/\"+hashlib.sha224(url.encode('utf-8')).hexdigest()+\".txt\", \"w\") as f_:\n",
    "                f_.write(json.dumps(res))\n",
    "                \n",
    "        except:\n",
    "            res['title'] = ''\n",
    "            res['text'] = ''\n",
    "            res['url'] = url\n",
    "            \n",
    "            with open(\"sites4/\"+hashlib.sha224(url.encode('utf-8')).hexdigest()+\".txt\", \"w\") as f_:\n",
    "                f_.write(json.dumps(res))"
   ]
  },
  {
   "cell_type": "code",
   "execution_count": 410,
   "metadata": {},
   "outputs": [],
   "source": [
    "urls = [df.iloc[i][0] for i in range(df.shape[0])]"
   ]
  },
  {
   "cell_type": "code",
   "execution_count": 411,
   "metadata": {},
   "outputs": [
    {
     "data": {
      "text/plain": [
       "4"
      ]
     },
     "execution_count": 411,
     "metadata": {},
     "output_type": "execute_result"
    }
   ],
   "source": [
    "multiprocessing.cpu_count()"
   ]
  },
  {
   "cell_type": "code",
   "execution_count": 412,
   "metadata": {},
   "outputs": [],
   "source": [
    "pool = Pool(10)\n",
    "pool.map(parse_all, urls)\n",
    "pool.close()\n",
    "pool.join()"
   ]
  },
  {
   "cell_type": "code",
   "execution_count": null,
   "metadata": {},
   "outputs": [],
   "source": []
  },
  {
   "cell_type": "code",
   "execution_count": 423,
   "metadata": {},
   "outputs": [],
   "source": [
    "socket.setdefaulttimeout(5)"
   ]
  },
  {
   "cell_type": "code",
   "execution_count": 425,
   "metadata": {},
   "outputs": [],
   "source": [
    "unparsed = []\n",
    "\n",
    "for elem in os.listdir(\"sites4\"):\n",
    "    with open(\"sites4/\"+elem, \"r\") as f_:\n",
    "        json_ = json.load(f_)\n",
    "        if json_[\"title\"] == '' and json_[\"text\"] == '':\n",
    "            unparsed.append(json_[\"url\"])"
   ]
  },
  {
   "cell_type": "code",
   "execution_count": 426,
   "metadata": {},
   "outputs": [
    {
     "data": {
      "text/plain": [
       "67419"
      ]
     },
     "execution_count": 426,
     "metadata": {},
     "output_type": "execute_result"
    }
   ],
   "source": [
    "len(unparsed)"
   ]
  },
  {
   "cell_type": "code",
   "execution_count": 424,
   "metadata": {},
   "outputs": [],
   "source": [
    "pool = Pool(10)\n",
    "pool.map(parse_all, unparsed)\n",
    "pool.close()\n",
    "pool.join()"
   ]
  },
  {
   "cell_type": "code",
   "execution_count": null,
   "metadata": {},
   "outputs": [],
   "source": []
  }
 ],
 "metadata": {
  "kernelspec": {
   "display_name": "Python 2",
   "language": "python",
   "name": "python2"
  },
  "language_info": {
   "codemirror_mode": {
    "name": "ipython",
    "version": 3
   },
   "file_extension": ".py",
   "mimetype": "text/x-python",
   "name": "python",
   "nbconvert_exporter": "python",
   "pygments_lexer": "ipython3",
   "version": "3.7.4"
  }
 },
 "nbformat": 4,
 "nbformat_minor": 2
}
